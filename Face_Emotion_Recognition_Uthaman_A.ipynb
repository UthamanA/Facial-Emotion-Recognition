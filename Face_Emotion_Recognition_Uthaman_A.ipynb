{
  "nbformat": 4,
  "nbformat_minor": 0,
  "metadata": {
    "colab": {
      "name": "Face Emotion Recognition-Uthaman A.ipynb",
      "provenance": [],
      "collapsed_sections": [],
      "include_colab_link": true
    },
    "kernelspec": {
      "name": "python3",
      "display_name": "Python 3"
    },
    "accelerator": "GPU"
  },
  "cells": [
    {
      "cell_type": "markdown",
      "metadata": {
        "id": "view-in-github",
        "colab_type": "text"
      },
      "source": [
        "<a href=\"https://colab.research.google.com/github/UthamanA/Face-Emotion-Recognition/blob/main/Face_Emotion_Recognition_Uthaman_A.ipynb\" target=\"_parent\"><img src=\"https://colab.research.google.com/assets/colab-badge.svg\" alt=\"Open In Colab\"/></a>"
      ]
    },
    {
      "cell_type": "markdown",
      "metadata": {
        "id": "ztky6L9E-lnP"
      },
      "source": [
        "# **Facial Emotion Recognition**\n",
        "\n",
        "\n",
        "\n",
        "\n",
        "\n",
        "\n",
        "Dataset - https://www.kaggle.com/c/challenges-in-representation-learning-facial-expression-recognition-challenge/data\n"
      ]
    },
    {
      "cell_type": "code",
      "metadata": {
        "id": "CHrzqEejOjR9"
      },
      "source": [
        "_author_ = \" Uthaman A \""
      ],
      "execution_count": 1,
      "outputs": []
    },
    {
      "cell_type": "markdown",
      "metadata": {
        "id": "9CULEspsFALh"
      },
      "source": [
        "**kaggle --account--Api**\n",
        "API's are used to access data from kaggle\n",
        "1. kaggle a/c -> my profile -> create api token\n",
        "2. In colabs ..while uploading api file... go to /content\n",
        "3. make .kaggle directory in /root \n",
        "4. copy kaggle api from /content to /root/.kaggle\n",
        "5. kaggle cmd(find in kaggle dataset page-> data) to download\n",
        "6. unzip the downloaded dataset\n"
      ]
    },
    {
      "cell_type": "code",
      "metadata": {
        "id": "tbi7hj_R8_yD",
        "colab": {
          "base_uri": "https://localhost:8080/",
          "height": 35
        },
        "outputId": "b737cc10-d900-4277-c958-8dafa56d97c2"
      },
      "source": [
        "pwd"
      ],
      "execution_count": 2,
      "outputs": [
        {
          "output_type": "execute_result",
          "data": {
            "application/vnd.google.colaboratory.intrinsic+json": {
              "type": "string"
            },
            "text/plain": [
              "'/content'"
            ]
          },
          "metadata": {},
          "execution_count": 2
        }
      ]
    },
    {
      "cell_type": "code",
      "metadata": {
        "id": "nt4jf1OW_6gf",
        "colab": {
          "base_uri": "https://localhost:8080/"
        },
        "outputId": "009f599e-d9eb-4bb5-cbe9-dd933d9f961c"
      },
      "source": [
        "cd /root"
      ],
      "execution_count": 3,
      "outputs": [
        {
          "output_type": "stream",
          "name": "stdout",
          "text": [
            "/root\n"
          ]
        }
      ]
    },
    {
      "cell_type": "code",
      "metadata": {
        "id": "PEY-3HG5AHFB"
      },
      "source": [
        "mkdir .kaggle               # .kaggle not /.kaggle"
      ],
      "execution_count": 4,
      "outputs": []
    },
    {
      "cell_type": "code",
      "metadata": {
        "id": "cNO-HFFq85a0",
        "colab": {
          "base_uri": "https://localhost:8080/"
        },
        "outputId": "17f1a0b1-6111-4e87-d025-0650b7907368"
      },
      "source": [
        "cd /root/.kaggle"
      ],
      "execution_count": 5,
      "outputs": [
        {
          "output_type": "stream",
          "name": "stdout",
          "text": [
            "/root/.kaggle\n"
          ]
        }
      ]
    },
    {
      "cell_type": "code",
      "metadata": {
        "id": "pqSXEsJ29HP7"
      },
      "source": [
        "!cp /content/kaggle.json ~/.kaggle \n"
      ],
      "execution_count": 6,
      "outputs": []
    },
    {
      "cell_type": "code",
      "metadata": {
        "id": "bN48VBLQpQb3",
        "colab": {
          "base_uri": "https://localhost:8080/",
          "height": 35
        },
        "outputId": "17092ee2-f9ae-4299-fc4c-5e700994ef65"
      },
      "source": [
        "pwd"
      ],
      "execution_count": 7,
      "outputs": [
        {
          "output_type": "execute_result",
          "data": {
            "application/vnd.google.colaboratory.intrinsic+json": {
              "type": "string"
            },
            "text/plain": [
              "'/root/.kaggle'"
            ]
          },
          "metadata": {},
          "execution_count": 7
        }
      ]
    },
    {
      "cell_type": "code",
      "metadata": {
        "id": "3YSkULw_pT0c",
        "colab": {
          "base_uri": "https://localhost:8080/"
        },
        "outputId": "6f39f591-6ea8-4bb0-f2e4-7eab38f22eaf"
      },
      "source": [
        "ls"
      ],
      "execution_count": 8,
      "outputs": [
        {
          "output_type": "stream",
          "name": "stdout",
          "text": [
            "kaggle.json\n"
          ]
        }
      ]
    },
    {
      "cell_type": "code",
      "metadata": {
        "id": "4Vlkz9IP9otV",
        "colab": {
          "base_uri": "https://localhost:8080/"
        },
        "outputId": "4696b7a0-4c6e-43b0-e9e1-8428c440abf6"
      },
      "source": [
        "ls"
      ],
      "execution_count": 9,
      "outputs": [
        {
          "output_type": "stream",
          "name": "stdout",
          "text": [
            "kaggle.json\n"
          ]
        }
      ]
    },
    {
      "cell_type": "code",
      "metadata": {
        "id": "LEkxCltOmE5v",
        "colab": {
          "base_uri": "https://localhost:8080/"
        },
        "outputId": "74d545bd-bfa1-46c1-ab9e-d165b1855182"
      },
      "source": [
        "# if ..looks like outdated api ..server version ERROR occurs\n",
        "!pip install --upgrade --force-reinstall --no-deps kaggle"
      ],
      "execution_count": 10,
      "outputs": [
        {
          "output_type": "stream",
          "name": "stdout",
          "text": [
            "Collecting kaggle\n",
            "  Downloading kaggle-1.5.12.tar.gz (58 kB)\n",
            "\u001b[?25l\r\u001b[K     |█████▋                          | 10 kB 27.6 MB/s eta 0:00:01\r\u001b[K     |███████████▏                    | 20 kB 23.4 MB/s eta 0:00:01\r\u001b[K     |████████████████▊               | 30 kB 11.4 MB/s eta 0:00:01\r\u001b[K     |██████████████████████▎         | 40 kB 9.1 MB/s eta 0:00:01\r\u001b[K     |███████████████████████████▉    | 51 kB 5.1 MB/s eta 0:00:01\r\u001b[K     |████████████████████████████████| 58 kB 3.1 MB/s \n",
            "\u001b[?25hBuilding wheels for collected packages: kaggle\n",
            "  Building wheel for kaggle (setup.py) ... \u001b[?25l\u001b[?25hdone\n",
            "  Created wheel for kaggle: filename=kaggle-1.5.12-py3-none-any.whl size=73051 sha256=6c83eca7516e4f35c3ef4acbb095015f210238f15a144c7cc88d9f2540b46a6f\n",
            "  Stored in directory: /root/.cache/pip/wheels/62/d6/58/5853130f941e75b2177d281eb7e44b4a98ed46dd155f556dc5\n",
            "Successfully built kaggle\n",
            "Installing collected packages: kaggle\n",
            "  Attempting uninstall: kaggle\n",
            "    Found existing installation: kaggle 1.5.12\n",
            "    Uninstalling kaggle-1.5.12:\n",
            "      Successfully uninstalled kaggle-1.5.12\n",
            "Successfully installed kaggle-1.5.12\n"
          ]
        }
      ]
    },
    {
      "cell_type": "code",
      "metadata": {
        "id": "ytfZi3nJmilT"
      },
      "source": [
        "#if ..only read permisions ..ERROR\n",
        "!chmod 600 /root/.kaggle/kaggle.json"
      ],
      "execution_count": 11,
      "outputs": []
    },
    {
      "cell_type": "code",
      "metadata": {
        "id": "yTPl804d77nk",
        "colab": {
          "base_uri": "https://localhost:8080/"
        },
        "outputId": "81bacd20-8d2d-49bf-acd3-6161e3db0919"
      },
      "source": [
        "# if 403 forbidden ERROR ... then accept the rules in kaggle dataset page\n",
        "\n",
        "!kaggle competitions download -c challenges-in-representation-learning-facial-expression-recognition-challenge"
      ],
      "execution_count": 12,
      "outputs": [
        {
          "output_type": "stream",
          "name": "stdout",
          "text": [
            "Downloading challenges-in-representation-learning-facial-expression-recognition-challenge.zip to /root/.kaggle\n",
            " 94% 267M/285M [00:01<00:00, 215MB/s]\n",
            "100% 285M/285M [00:01<00:00, 210MB/s]\n"
          ]
        }
      ]
    },
    {
      "cell_type": "code",
      "metadata": {
        "id": "grCSTKE-_UG3",
        "colab": {
          "base_uri": "https://localhost:8080/"
        },
        "outputId": "1c1625ef-97d4-4e7e-c23f-3608b21758f6"
      },
      "source": [
        "ls"
      ],
      "execution_count": 13,
      "outputs": [
        {
          "output_type": "stream",
          "name": "stdout",
          "text": [
            "challenges-in-representation-learning-facial-expression-recognition-challenge.zip\n",
            "kaggle.json\n"
          ]
        }
      ]
    },
    {
      "cell_type": "code",
      "metadata": {
        "id": "MEobtx6O9qvT",
        "colab": {
          "base_uri": "https://localhost:8080/"
        },
        "outputId": "20f6ff60-5e7e-4594-a980-08927476725e"
      },
      "source": [
        "!unzip challenges-in-representation-learning-facial-expression-recognition-challenge.zip"
      ],
      "execution_count": 14,
      "outputs": [
        {
          "output_type": "stream",
          "name": "stdout",
          "text": [
            "Archive:  challenges-in-representation-learning-facial-expression-recognition-challenge.zip\n",
            "  inflating: example_submission.csv  \n",
            "  inflating: fer2013.tar.gz          \n",
            "  inflating: icml_face_data.csv      \n",
            "  inflating: test.csv                \n",
            "  inflating: train.csv               \n"
          ]
        }
      ]
    },
    {
      "cell_type": "code",
      "metadata": {
        "id": "fAiYFWW7_vMT",
        "colab": {
          "base_uri": "https://localhost:8080/"
        },
        "outputId": "688f893a-6bf6-4104-cd6a-1a0be159b71b"
      },
      "source": [
        "ls"
      ],
      "execution_count": 15,
      "outputs": [
        {
          "output_type": "stream",
          "name": "stdout",
          "text": [
            "challenges-in-representation-learning-facial-expression-recognition-challenge.zip\n",
            "example_submission.csv\n",
            "fer2013.tar.gz\n",
            "icml_face_data.csv\n",
            "kaggle.json\n",
            "test.csv\n",
            "train.csv\n"
          ]
        }
      ]
    },
    {
      "cell_type": "code",
      "metadata": {
        "id": "oQgMssSBwypP"
      },
      "source": [
        "!tar -xf fer2013.tar.gz   # x= extract , f= to create archive"
      ],
      "execution_count": 16,
      "outputs": []
    },
    {
      "cell_type": "code",
      "metadata": {
        "id": "tiO3ojiRw4wW",
        "colab": {
          "base_uri": "https://localhost:8080/"
        },
        "outputId": "3113fd4e-9ee0-45b4-d667-c66f9335ef08"
      },
      "source": [
        "ls"
      ],
      "execution_count": 17,
      "outputs": [
        {
          "output_type": "stream",
          "name": "stdout",
          "text": [
            "challenges-in-representation-learning-facial-expression-recognition-challenge.zip\n",
            "example_submission.csv\n",
            "\u001b[0m\u001b[01;34mfer2013\u001b[0m/\n",
            "fer2013.tar.gz\n",
            "icml_face_data.csv\n",
            "kaggle.json\n",
            "test.csv\n",
            "train.csv\n"
          ]
        }
      ]
    },
    {
      "cell_type": "code",
      "metadata": {
        "id": "LIq55w1FF5fQ",
        "colab": {
          "base_uri": "https://localhost:8080/"
        },
        "outputId": "43e95af5-dfa1-4df2-cb35-a7fa411d8b6d"
      },
      "source": [
        "cd fer2013"
      ],
      "execution_count": 18,
      "outputs": [
        {
          "output_type": "stream",
          "name": "stdout",
          "text": [
            "/root/.kaggle/fer2013\n"
          ]
        }
      ]
    },
    {
      "cell_type": "code",
      "metadata": {
        "id": "YaVtewzUF-zA",
        "colab": {
          "base_uri": "https://localhost:8080/"
        },
        "outputId": "790662be-1321-4ee8-c1ce-bd3f9f2d067f"
      },
      "source": [
        "ls"
      ],
      "execution_count": 19,
      "outputs": [
        {
          "output_type": "stream",
          "name": "stdout",
          "text": [
            "fer2013.bib  fer2013.csv  README\n"
          ]
        }
      ]
    },
    {
      "cell_type": "markdown",
      "metadata": {
        "id": "9YeU4HHZ_bS4"
      },
      "source": [
        "## **Dataset**\n",
        "* The data consists of 48x48 pixel grayscale images of faces. \n",
        " \n",
        "* The task is to categorize each face based on the emotion shown in the facial expression in to one of seven categories (0=Angry, 1=Disgust, 2=Fear, 3=Happy, 4=Sad, 5=Surprise, 6=Neutral).\n",
        "* Dataset contains two columns, \"emotion\" and \"pixels\".\n",
        "* The \"emotion\" column contains a numeric code ranging from 0 to 6, inclusive, for the emotion that is present in the image. \n",
        "* The \"pixels\" column contains a string surrounded in quotes for each image. The contents of this string a space-separated pixel values in row major order. test.csv contains only the \"pixels\" column and your task is to predict the emotion column."
      ]
    },
    {
      "cell_type": "markdown",
      "metadata": {
        "id": "7Zu89RTzBMty"
      },
      "source": [
        "# Data Visualization\n",
        "\n",
        "* powerful visualization tools => matplotlib, seaborn\n",
        "      1. matplotlib works on pandas dataframe\n",
        "      2.  matplotlib => basic ploting =>bars,pie,scatter, lines etc.. => used for MATLAB like graphs\n",
        "      3. seaborn => statistical ploting => depends on matplotlib...high level => provides default templates"
      ]
    },
    {
      "cell_type": "code",
      "metadata": {
        "id": "xcfiDv03-cGX"
      },
      "source": [
        "\"\"\" IMPORT ALL DEPENDENCIES\"\"\"\n",
        "\n",
        "\n",
        "# NumPy for numerical computing\n",
        "import numpy as np\n",
        "\n",
        "# Pandas for DataFrames\n",
        "import pandas as pd\n",
        "\n",
        "# Matplotlib for visualization\n",
        "from matplotlib import pyplot as plt\n",
        "# display plots in the notebook\n",
        "%matplotlib inline\n",
        "# import color maps\n",
        "from matplotlib.colors import ListedColormap\n",
        "\n",
        "# Seaborn for easier visualization\n",
        "import seaborn as sns"
      ],
      "execution_count": 20,
      "outputs": []
    },
    {
      "cell_type": "code",
      "metadata": {
        "id": "iTJESy7QA-5E",
        "colab": {
          "base_uri": "https://localhost:8080/",
          "height": 204
        },
        "outputId": "8abb7599-5909-4d96-d303-7780c4bfc3ed"
      },
      "source": [
        "df = pd.read_csv(\"/root/.kaggle/fer2013/fer2013.csv\")\n",
        "df.head()"
      ],
      "execution_count": 21,
      "outputs": [
        {
          "output_type": "execute_result",
          "data": {
            "text/html": [
              "<div>\n",
              "<style scoped>\n",
              "    .dataframe tbody tr th:only-of-type {\n",
              "        vertical-align: middle;\n",
              "    }\n",
              "\n",
              "    .dataframe tbody tr th {\n",
              "        vertical-align: top;\n",
              "    }\n",
              "\n",
              "    .dataframe thead th {\n",
              "        text-align: right;\n",
              "    }\n",
              "</style>\n",
              "<table border=\"1\" class=\"dataframe\">\n",
              "  <thead>\n",
              "    <tr style=\"text-align: right;\">\n",
              "      <th></th>\n",
              "      <th>emotion</th>\n",
              "      <th>pixels</th>\n",
              "      <th>Usage</th>\n",
              "    </tr>\n",
              "  </thead>\n",
              "  <tbody>\n",
              "    <tr>\n",
              "      <th>0</th>\n",
              "      <td>0</td>\n",
              "      <td>70 80 82 72 58 58 60 63 54 58 60 48 89 115 121...</td>\n",
              "      <td>Training</td>\n",
              "    </tr>\n",
              "    <tr>\n",
              "      <th>1</th>\n",
              "      <td>0</td>\n",
              "      <td>151 150 147 155 148 133 111 140 170 174 182 15...</td>\n",
              "      <td>Training</td>\n",
              "    </tr>\n",
              "    <tr>\n",
              "      <th>2</th>\n",
              "      <td>2</td>\n",
              "      <td>231 212 156 164 174 138 161 173 182 200 106 38...</td>\n",
              "      <td>Training</td>\n",
              "    </tr>\n",
              "    <tr>\n",
              "      <th>3</th>\n",
              "      <td>4</td>\n",
              "      <td>24 32 36 30 32 23 19 20 30 41 21 22 32 34 21 1...</td>\n",
              "      <td>Training</td>\n",
              "    </tr>\n",
              "    <tr>\n",
              "      <th>4</th>\n",
              "      <td>6</td>\n",
              "      <td>4 0 0 0 0 0 0 0 0 0 0 0 3 15 23 28 48 50 58 84...</td>\n",
              "      <td>Training</td>\n",
              "    </tr>\n",
              "  </tbody>\n",
              "</table>\n",
              "</div>"
            ],
            "text/plain": [
              "   emotion                                             pixels     Usage\n",
              "0        0  70 80 82 72 58 58 60 63 54 58 60 48 89 115 121...  Training\n",
              "1        0  151 150 147 155 148 133 111 140 170 174 182 15...  Training\n",
              "2        2  231 212 156 164 174 138 161 173 182 200 106 38...  Training\n",
              "3        4  24 32 36 30 32 23 19 20 30 41 21 22 32 34 21 1...  Training\n",
              "4        6  4 0 0 0 0 0 0 0 0 0 0 0 3 15 23 28 48 50 58 84...  Training"
            ]
          },
          "metadata": {},
          "execution_count": 21
        }
      ]
    },
    {
      "cell_type": "code",
      "metadata": {
        "id": "gbnhU1whADCT",
        "colab": {
          "base_uri": "https://localhost:8080/",
          "height": 419
        },
        "outputId": "f7fbc499-7bb9-425b-ede4-90f636510334"
      },
      "source": [
        "df"
      ],
      "execution_count": 22,
      "outputs": [
        {
          "output_type": "execute_result",
          "data": {
            "text/html": [
              "<div>\n",
              "<style scoped>\n",
              "    .dataframe tbody tr th:only-of-type {\n",
              "        vertical-align: middle;\n",
              "    }\n",
              "\n",
              "    .dataframe tbody tr th {\n",
              "        vertical-align: top;\n",
              "    }\n",
              "\n",
              "    .dataframe thead th {\n",
              "        text-align: right;\n",
              "    }\n",
              "</style>\n",
              "<table border=\"1\" class=\"dataframe\">\n",
              "  <thead>\n",
              "    <tr style=\"text-align: right;\">\n",
              "      <th></th>\n",
              "      <th>emotion</th>\n",
              "      <th>pixels</th>\n",
              "      <th>Usage</th>\n",
              "    </tr>\n",
              "  </thead>\n",
              "  <tbody>\n",
              "    <tr>\n",
              "      <th>0</th>\n",
              "      <td>0</td>\n",
              "      <td>70 80 82 72 58 58 60 63 54 58 60 48 89 115 121...</td>\n",
              "      <td>Training</td>\n",
              "    </tr>\n",
              "    <tr>\n",
              "      <th>1</th>\n",
              "      <td>0</td>\n",
              "      <td>151 150 147 155 148 133 111 140 170 174 182 15...</td>\n",
              "      <td>Training</td>\n",
              "    </tr>\n",
              "    <tr>\n",
              "      <th>2</th>\n",
              "      <td>2</td>\n",
              "      <td>231 212 156 164 174 138 161 173 182 200 106 38...</td>\n",
              "      <td>Training</td>\n",
              "    </tr>\n",
              "    <tr>\n",
              "      <th>3</th>\n",
              "      <td>4</td>\n",
              "      <td>24 32 36 30 32 23 19 20 30 41 21 22 32 34 21 1...</td>\n",
              "      <td>Training</td>\n",
              "    </tr>\n",
              "    <tr>\n",
              "      <th>4</th>\n",
              "      <td>6</td>\n",
              "      <td>4 0 0 0 0 0 0 0 0 0 0 0 3 15 23 28 48 50 58 84...</td>\n",
              "      <td>Training</td>\n",
              "    </tr>\n",
              "    <tr>\n",
              "      <th>...</th>\n",
              "      <td>...</td>\n",
              "      <td>...</td>\n",
              "      <td>...</td>\n",
              "    </tr>\n",
              "    <tr>\n",
              "      <th>35882</th>\n",
              "      <td>6</td>\n",
              "      <td>50 36 17 22 23 29 33 39 34 37 37 37 39 43 48 5...</td>\n",
              "      <td>PrivateTest</td>\n",
              "    </tr>\n",
              "    <tr>\n",
              "      <th>35883</th>\n",
              "      <td>3</td>\n",
              "      <td>178 174 172 173 181 188 191 194 196 199 200 20...</td>\n",
              "      <td>PrivateTest</td>\n",
              "    </tr>\n",
              "    <tr>\n",
              "      <th>35884</th>\n",
              "      <td>0</td>\n",
              "      <td>17 17 16 23 28 22 19 17 25 26 20 24 31 19 27 9...</td>\n",
              "      <td>PrivateTest</td>\n",
              "    </tr>\n",
              "    <tr>\n",
              "      <th>35885</th>\n",
              "      <td>3</td>\n",
              "      <td>30 28 28 29 31 30 42 68 79 81 77 67 67 71 63 6...</td>\n",
              "      <td>PrivateTest</td>\n",
              "    </tr>\n",
              "    <tr>\n",
              "      <th>35886</th>\n",
              "      <td>2</td>\n",
              "      <td>19 13 14 12 13 16 21 33 50 57 71 84 97 108 122...</td>\n",
              "      <td>PrivateTest</td>\n",
              "    </tr>\n",
              "  </tbody>\n",
              "</table>\n",
              "<p>35887 rows × 3 columns</p>\n",
              "</div>"
            ],
            "text/plain": [
              "       emotion                                             pixels        Usage\n",
              "0            0  70 80 82 72 58 58 60 63 54 58 60 48 89 115 121...     Training\n",
              "1            0  151 150 147 155 148 133 111 140 170 174 182 15...     Training\n",
              "2            2  231 212 156 164 174 138 161 173 182 200 106 38...     Training\n",
              "3            4  24 32 36 30 32 23 19 20 30 41 21 22 32 34 21 1...     Training\n",
              "4            6  4 0 0 0 0 0 0 0 0 0 0 0 3 15 23 28 48 50 58 84...     Training\n",
              "...        ...                                                ...          ...\n",
              "35882        6  50 36 17 22 23 29 33 39 34 37 37 37 39 43 48 5...  PrivateTest\n",
              "35883        3  178 174 172 173 181 188 191 194 196 199 200 20...  PrivateTest\n",
              "35884        0  17 17 16 23 28 22 19 17 25 26 20 24 31 19 27 9...  PrivateTest\n",
              "35885        3  30 28 28 29 31 30 42 68 79 81 77 67 67 71 63 6...  PrivateTest\n",
              "35886        2  19 13 14 12 13 16 21 33 50 57 71 84 97 108 122...  PrivateTest\n",
              "\n",
              "[35887 rows x 3 columns]"
            ]
          },
          "metadata": {},
          "execution_count": 22
        }
      ]
    },
    {
      "cell_type": "code",
      "metadata": {
        "id": "prR_SJxiBA8U",
        "colab": {
          "base_uri": "https://localhost:8080/"
        },
        "outputId": "14857749-43db-4475-b085-34ce52b02c14"
      },
      "source": [
        "df.shape"
      ],
      "execution_count": 23,
      "outputs": [
        {
          "output_type": "execute_result",
          "data": {
            "text/plain": [
              "(35887, 3)"
            ]
          },
          "metadata": {},
          "execution_count": 23
        }
      ]
    },
    {
      "cell_type": "markdown",
      "metadata": {
        "id": "k39FElpEMVju"
      },
      "source": [
        "## **Plotting emotion**"
      ]
    },
    {
      "cell_type": "code",
      "metadata": {
        "id": "ZidMumXvBzpr",
        "colab": {
          "base_uri": "https://localhost:8080/",
          "height": 296
        },
        "outputId": "8864c2b6-1975-4d81-948f-b084403f8482"
      },
      "source": [
        "\"\"\" matplotlib => to define size , sns => to use counterplot \"\"\"\n",
        "\n",
        "plt.figure(figsize=(9,4))\n",
        "sns.countplot(x='emotion', data=df)"
      ],
      "execution_count": 24,
      "outputs": [
        {
          "output_type": "execute_result",
          "data": {
            "text/plain": [
              "<matplotlib.axes._subplots.AxesSubplot at 0x7f30a0f1e590>"
            ]
          },
          "metadata": {},
          "execution_count": 24
        },
        {
          "output_type": "display_data",
          "data": {
            "image/png": "[encoded data removed]",
            "text/plain": [
              "<Figure size 648x288 with 1 Axes>"
            ]
          },
          "metadata": {
            "needs_background": "light"
          }
        }
      ]
    },
    {
      "cell_type": "code",
      "metadata": {
        "id": "7qEMmC3ILEtp",
        "colab": {
          "base_uri": "https://localhost:8080/"
        },
        "outputId": "f744269c-3134-4e4f-e60f-c595d0ac1001"
      },
      "source": [
        "df['emotion'].value_counts()"
      ],
      "execution_count": 25,
      "outputs": [
        {
          "output_type": "execute_result",
          "data": {
            "text/plain": [
              "3    8989\n",
              "6    6198\n",
              "4    6077\n",
              "2    5121\n",
              "0    4953\n",
              "5    4002\n",
              "1     547\n",
              "Name: emotion, dtype: int64"
            ]
          },
          "metadata": {},
          "execution_count": 25
        }
      ]
    },
    {
      "cell_type": "markdown",
      "metadata": {
        "id": "Wah5ra4rMB0O"
      },
      "source": [
        "* where ** 0=Angry, 1=Disgust, 2=Fear, 3=Happy, 4=Sad, 5=Surprise, 6=Neutral**"
      ]
    },
    {
      "cell_type": "markdown",
      "metadata": {
        "id": "iblqx4zrSuUY"
      },
      "source": [
        "### Observation\n",
        "* for Digust we have about 547 images only very less. "
      ]
    },
    {
      "cell_type": "markdown",
      "metadata": {
        "id": "I4G1tEVgMnl0"
      },
      "source": [
        "## **Plotting Usage**"
      ]
    },
    {
      "cell_type": "code",
      "metadata": {
        "id": "JL5-9TQJMAbi",
        "colab": {
          "base_uri": "https://localhost:8080/",
          "height": 299
        },
        "outputId": "8146d8ab-118b-4e8f-8263-ddfbfd3340d1"
      },
      "source": [
        "plt.figure(figsize=(9,4))\n",
        "sns.countplot(x='Usage', data=df)"
      ],
      "execution_count": 26,
      "outputs": [
        {
          "output_type": "execute_result",
          "data": {
            "text/plain": [
              "<matplotlib.axes._subplots.AxesSubplot at 0x7f30a0759650>"
            ]
          },
          "metadata": {},
          "execution_count": 26
        },
        {
          "output_type": "display_data",
          "data": {
            "image/png": "[encoded data removed]",
            "text/plain": [
              "<Figure size 648x288 with 1 Axes>"
            ]
          },
          "metadata": {
            "needs_background": "light"
          }
        }
      ]
    },
    {
      "cell_type": "code",
      "metadata": {
        "id": "bTzE2z-2Lpsh",
        "colab": {
          "base_uri": "https://localhost:8080/"
        },
        "outputId": "09f86690-7629-4586-e241-283aa2f832d2"
      },
      "source": [
        "df['Usage'].value_counts()"
      ],
      "execution_count": 27,
      "outputs": [
        {
          "output_type": "execute_result",
          "data": {
            "text/plain": [
              "Training       28709\n",
              "PublicTest      3589\n",
              "PrivateTest     3589\n",
              "Name: Usage, dtype: int64"
            ]
          },
          "metadata": {},
          "execution_count": 27
        }
      ]
    },
    {
      "cell_type": "markdown",
      "metadata": {
        "id": "u_Xc1kb96J_I"
      },
      "source": [
        " **Intuition**\n",
        "\n",
        "* % matplotlib inline ==> magic cmd to setup IPython to display and store figures in notebooks\n",
        "* dataframe ==>pd.read_csv() , .head(), .tail(), .shape\n",
        "* count ==>  sns.countplot(x=,df) -> for graphs  ; df[col].value_counts() -> to display count values\n"
      ]
    },
    {
      "cell_type": "markdown",
      "metadata": {
        "id": "hLpNo_Wi78C3"
      },
      "source": [
        "# PreProcessing"
      ]
    },
    {
      "cell_type": "code",
      "metadata": {
        "id": "OshjJPMx95JF"
      },
      "source": [
        "import cv2\n",
        "image_size=(48,48)"
      ],
      "execution_count": 28,
      "outputs": []
    },
    {
      "cell_type": "code",
      "metadata": {
        "id": "HRs4m6UvM7AO"
      },
      "source": [
        "pixels = df['pixels'].tolist() # Converting the relevant column element into a list for each row\n",
        "width, height = 48, 48\n",
        "faces = []\n",
        "\n",
        "for pixel_sequence in pixels:\n",
        "  face = [int(pixel) for pixel in pixel_sequence.split(' ')] # Splitting the string by space character as a list\n",
        "  face = np.asarray(face).reshape(width, height) #converting the list to numpy array in size of 48*48\n",
        "  face = cv2.resize(face.astype('uint8'),image_size) #resize the image to have 48 cols (width) and 48 rows (height)\n",
        "  faces.append(face.astype('float32')) #makes the list of each images of 48*48 and their pixels in numpyarray form\n",
        "  \n",
        "faces = np.asarray(faces) #converting the list into numpy array\n",
        "faces = np.expand_dims(faces, -1) #Expand the shape of an array -1=last dimension => means color space\n",
        "emotions = pd.get_dummies(df['emotion']).to_numpy() #doing the one hot encoding type on emotions"
      ],
      "execution_count": 29,
      "outputs": []
    },
    {
      "cell_type": "code",
      "metadata": {
        "id": "VPsO_9sn77EB",
        "colab": {
          "base_uri": "https://localhost:8080/"
        },
        "outputId": "4fdbf032-e0ec-4651-d56c-cdc87a7c6e64"
      },
      "source": [
        "print(faces[0]) #Pixels after preprocessing"
      ],
      "execution_count": 30,
      "outputs": [
        {
          "output_type": "stream",
          "name": "stdout",
          "text": [
            "[[[ 70.]\n",
            "  [ 80.]\n",
            "  [ 82.]\n",
            "  ...\n",
            "  [ 52.]\n",
            "  [ 43.]\n",
            "  [ 41.]]\n",
            "\n",
            " [[ 65.]\n",
            "  [ 61.]\n",
            "  [ 58.]\n",
            "  ...\n",
            "  [ 56.]\n",
            "  [ 52.]\n",
            "  [ 44.]]\n",
            "\n",
            " [[ 50.]\n",
            "  [ 43.]\n",
            "  [ 54.]\n",
            "  ...\n",
            "  [ 49.]\n",
            "  [ 56.]\n",
            "  [ 47.]]\n",
            "\n",
            " ...\n",
            "\n",
            " [[ 91.]\n",
            "  [ 65.]\n",
            "  [ 42.]\n",
            "  ...\n",
            "  [ 72.]\n",
            "  [ 56.]\n",
            "  [ 43.]]\n",
            "\n",
            " [[ 77.]\n",
            "  [ 82.]\n",
            "  [ 79.]\n",
            "  ...\n",
            "  [105.]\n",
            "  [ 70.]\n",
            "  [ 46.]]\n",
            "\n",
            " [[ 77.]\n",
            "  [ 72.]\n",
            "  [ 84.]\n",
            "  ...\n",
            "  [106.]\n",
            "  [109.]\n",
            "  [ 82.]]]\n"
          ]
        }
      ]
    },
    {
      "cell_type": "code",
      "metadata": {
        "id": "s2JENcOV_nXJ",
        "colab": {
          "base_uri": "https://localhost:8080/"
        },
        "outputId": "7488ea94-8e02-41cf-b94f-37587f3e443d"
      },
      "source": [
        "print(faces.shape)\n",
        "print(faces[0].ndim)\n",
        "print(type(faces))"
      ],
      "execution_count": 31,
      "outputs": [
        {
          "output_type": "stream",
          "name": "stdout",
          "text": [
            "(35887, 48, 48, 1)\n",
            "3\n",
            "<class 'numpy.ndarray'>\n"
          ]
        }
      ]
    },
    {
      "cell_type": "code",
      "metadata": {
        "id": "yeQMsBoR-Y4d",
        "colab": {
          "base_uri": "https://localhost:8080/"
        },
        "outputId": "9cedb461-1181-444f-89b1-b0dae3de9363"
      },
      "source": [
        "print(emotions[0]) #Emotion after preprocessing"
      ],
      "execution_count": 32,
      "outputs": [
        {
          "output_type": "stream",
          "name": "stdout",
          "text": [
            "[1 0 0 0 0 0 0]\n"
          ]
        }
      ]
    },
    {
      "cell_type": "code",
      "metadata": {
        "id": "WOO-ZRSf-hgt",
        "colab": {
          "base_uri": "https://localhost:8080/"
        },
        "outputId": "643046e4-5e9e-4e49-bcf3-d65528a93779"
      },
      "source": [
        "print(emotions.shape)\n",
        "print(emotions.ndim)\n",
        "print(type(emotions))"
      ],
      "execution_count": 33,
      "outputs": [
        {
          "output_type": "stream",
          "name": "stdout",
          "text": [
            "(35887, 7)\n",
            "2\n",
            "<class 'numpy.ndarray'>\n"
          ]
        }
      ]
    },
    {
      "cell_type": "markdown",
      "metadata": {
        "id": "kj9OqVepeZ2E"
      },
      "source": [
        "**Intuition**\n",
        "* Pandas series(or col of dataframe) to list => tolist() =>gives list of string of values->each string is a image\n",
        "* split each string(image) in list and cvt them into list of list of integers\n",
        "* convert list into numpy array =>np.asarray(list)\n",
        "* numpy array has reshape(width,height) \n",
        "* cv2 has resize(nparray, (size)) -->cvt image into uint8(unsigned 8 bit integer) -> has range [0,255]\n",
        "  1. uint16 => [0,65535]\n",
        "  2. uint32 => 32 bit or 4 bytes => [0, 2^32]\n",
        "  3. float => [-1,1] or [0,1]\n",
        "  4. int8 => [-128, 127]\n",
        "  5. int =>  [-2^31 , 2^31 -1] \n",
        "* images => ntg but numpy array\n",
        "* openCV has 3 dimensions => width,height, color => color space = BGR ; dtype => by default uint8\n",
        "* reshape returns a copy [ doesn't change values] whereas resize changes the values[not return a copy]\n",
        "* np.expand_dims => inserts new axis => ntg but boxes(just think for convenience) => to increase dimensions => to expand shape\n",
        "  1. axis= 0 -> box to all values ; axis =1 -> boxes to each individual values\n",
        "  2. example , (2,1,2) =>[ [[[],[]]],[[[],[]]] ] => list has 2 boxes - each box has 1 box - inside that each 1 box has 2 boxes --> in general box is a list or value\n",
        "* pd.get_dummies => convert pd series into dummy coded dataframes or indicator variables. => categorical var into indicators vars. => s.no(row names) * values(cols names) - 0,1 values.\n",
        "* numpy.asmatrix(data,dtype) => interpret input as a matrix => doesn't return a copy of matrix if given input is a matrix.\n",
        "  1. In list[0][1] =>In numpy[0,1] -> means In first box 2nd ele.\n",
        "*pd.df.to_numpy() => converts pandas dataframe into numpy array -> ndarray - usally 2 dim ->\n",
        "  1. dataframe -> some kind of tabular format with some indexes. ; numpy array -> some kind of lists of lists\n",
        "  2."
      ]
    },
    {
      "cell_type": "markdown",
      "metadata": {
        "id": "GL78P7u0I1Hp"
      },
      "source": [
        "# Splitting the dataset"
      ]
    },
    {
      "cell_type": "markdown",
      "metadata": {
        "id": "28T5zBUCUn4j"
      },
      "source": [
        "## Scaling the pixels between -1 and 1"
      ]
    },
    {
      "cell_type": "code",
      "metadata": {
        "id": "E2MJ1pnPJCyP"
      },
      "source": [
        "x = faces.astype('float32')\n",
        "x = x / 255.0 #Dividing the pixels by 255 for normalization  => range(0,1)\n",
        "\n",
        "# Scaling the pixels value in range(-1,1)\n",
        "x = x - 0.5\n",
        "x = x * 2.0"
      ],
      "execution_count": 34,
      "outputs": []
    },
    {
      "cell_type": "code",
      "metadata": {
        "id": "foWH2FX3JErZ",
        "colab": {
          "base_uri": "https://localhost:8080/"
        },
        "outputId": "e546d0e8-995f-4644-c130-6e905a25a380"
      },
      "source": [
        "print(x[0])"
      ],
      "execution_count": 35,
      "outputs": [
        {
          "output_type": "stream",
          "name": "stdout",
          "text": [
            "[[[-0.45098037]\n",
            "  [-0.372549  ]\n",
            "  [-0.35686272]\n",
            "  ...\n",
            "  [-0.5921569 ]\n",
            "  [-0.6627451 ]\n",
            "  [-0.6784314 ]]\n",
            "\n",
            " [[-0.49019605]\n",
            "  [-0.52156866]\n",
            "  [-0.54509807]\n",
            "  ...\n",
            "  [-0.56078434]\n",
            "  [-0.5921569 ]\n",
            "  [-0.654902  ]]\n",
            "\n",
            " [[-0.60784316]\n",
            "  [-0.6627451 ]\n",
            "  [-0.5764706 ]\n",
            "  ...\n",
            "  [-0.6156863 ]\n",
            "  [-0.56078434]\n",
            "  [-0.6313726 ]]\n",
            "\n",
            " ...\n",
            "\n",
            " [[-0.2862745 ]\n",
            "  [-0.49019605]\n",
            "  [-0.67058825]\n",
            "  ...\n",
            "  [-0.4352941 ]\n",
            "  [-0.56078434]\n",
            "  [-0.6627451 ]]\n",
            "\n",
            " [[-0.3960784 ]\n",
            "  [-0.35686272]\n",
            "  [-0.38039213]\n",
            "  ...\n",
            "  [-0.17647058]\n",
            "  [-0.45098037]\n",
            "  [-0.6392157 ]]\n",
            "\n",
            " [[-0.3960784 ]\n",
            "  [-0.4352941 ]\n",
            "  [-0.34117645]\n",
            "  ...\n",
            "  [-0.16862744]\n",
            "  [-0.14509803]\n",
            "  [-0.35686272]]]\n"
          ]
        }
      ]
    },
    {
      "cell_type": "code",
      "metadata": {
        "id": "b_QhWHs_JGMx",
        "colab": {
          "base_uri": "https://localhost:8080/"
        },
        "outputId": "f4c76039-e3a7-4de4-c351-f0e21c1ef662"
      },
      "source": [
        "type(x)"
      ],
      "execution_count": 36,
      "outputs": [
        {
          "output_type": "execute_result",
          "data": {
            "text/plain": [
              "numpy.ndarray"
            ]
          },
          "metadata": {},
          "execution_count": 36
        }
      ]
    },
    {
      "cell_type": "code",
      "metadata": {
        "id": "8F5u4B83NKFy",
        "colab": {
          "base_uri": "https://localhost:8080/",
          "height": 269
        },
        "outputId": "42323ed6-f659-4fbc-8dcd-6b92e7021704"
      },
      "source": [
        "plt.plot(x[0,0])\n",
        "plt.show()"
      ],
      "execution_count": 37,
      "outputs": [
        {
          "output_type": "display_data",
          "data": {
            "image/png": "[encoded data removed]",
            "text/plain": [
              "<Figure size 432x288 with 1 Axes>"
            ]
          },
          "metadata": {
            "needs_background": "light"
          }
        }
      ]
    },
    {
      "cell_type": "code",
      "metadata": {
        "id": "Euq0pES3Ufv_",
        "colab": {
          "base_uri": "https://localhost:8080/"
        },
        "outputId": "2d9ab2b1-b190-47bf-d8c5-506577e3c4fc"
      },
      "source": [
        "print(x.min(),x.max()) # we can observe that pixels are scale"
      ],
      "execution_count": 38,
      "outputs": [
        {
          "output_type": "stream",
          "name": "stdout",
          "text": [
            "-1.0 1.0\n"
          ]
        }
      ]
    },
    {
      "cell_type": "markdown",
      "metadata": {
        "id": "AZARK_oB_IuF"
      },
      "source": [
        "## Splitting the dataset into train & validation set"
      ]
    },
    {
      "cell_type": "code",
      "metadata": {
        "id": "0oIyb2zMU2sj"
      },
      "source": [
        "num_samples, num_classes = emotions.shape\n",
        "\n",
        "num_samples = len(x)\n",
        "num_train_samples = int((1 - 0.2)*num_samples)\n",
        "\n",
        "# Traning data\n",
        "train_x = x[:num_train_samples]\n",
        "train_y = emotions[:num_train_samples]\n",
        "\n",
        "# Validation data\n",
        "val_x = x[num_train_samples:]\n",
        "val_y = emotions[num_train_samples:]\n",
        "\n",
        "train_data = (train_x, train_y)\n",
        "val_data = (val_x, val_y)"
      ],
      "execution_count": 39,
      "outputs": []
    },
    {
      "cell_type": "code",
      "metadata": {
        "id": "oBtesONJWvDY",
        "colab": {
          "base_uri": "https://localhost:8080/"
        },
        "outputId": "21f3c1c0-0ce9-48cc-f7d4-c7fb8e729d67"
      },
      "source": [
        "print('Training Pixels',train_x.shape)  # ==> 4 dims -  no of images , width , height , color\n",
        "print('Training labels',train_y.shape)\n",
        "\n",
        "print('Validation Pixels',val_x.shape)\n",
        "print('Validation labels',val_y.shape)"
      ],
      "execution_count": 40,
      "outputs": [
        {
          "output_type": "stream",
          "name": "stdout",
          "text": [
            "Training Pixels (28709, 48, 48, 1)\n",
            "Training labels (28709, 7)\n",
            "Validation Pixels (7178, 48, 48, 1)\n",
            "Validation labels (7178, 7)\n"
          ]
        }
      ]
    },
    {
      "cell_type": "markdown",
      "metadata": {
        "id": "b3u-V2UMmKTI"
      },
      "source": [
        "* shape => returns no of samples , classes ; len => no of samples\n",
        "* training -> x = x[: 0.8*no_of_samples] , y = y[: 0.8*no_of_samples]     ---> take the benefit of slicing\n",
        "* validation -> x = x[ 0.8*no_of_samples  : ] , y = y[ 0.8*no_of_samples  : ]\n",
        "* data = (x,y)\n",
        "\n",
        "* take benefit of type(), print() --> for checking"
      ]
    },
    {
      "cell_type": "markdown",
      "metadata": {
        "id": "IyZvjJKTAMpx"
      },
      "source": [
        "# Defining Model"
      ]
    },
    {
      "cell_type": "code",
      "metadata": {
        "id": "TKpD2mbkD3V0"
      },
      "source": [
        "#load the libaray to built the model\n",
        "from keras.layers import Activation, Convolution2D, Dropout, Conv2D\n",
        "from keras.layers import AveragePooling2D, BatchNormalization\n",
        "from keras.layers import GlobalAveragePooling2D\n",
        "from keras.models import Sequential\n",
        "from keras.layers import Flatten\n",
        "from keras.models import Model\n",
        "from keras.layers import Input\n",
        "from keras.layers import MaxPooling2D\n",
        "from keras.layers import SeparableConv2D\n",
        "from keras import layers\n",
        "from keras.regularizers import l2"
      ],
      "execution_count": 41,
      "outputs": []
    },
    {
      "cell_type": "markdown",
      "metadata": {
        "id": "4f_8pLj1p85S"
      },
      "source": [
        "* keras is a deep learning library => powerful easy to use library => high level API for tensorflow, Theano => wrapper\n",
        "* minimalistic , modular approach\n",
        "* obviously,oversimplification ->abstract representations of neural networks\n",
        "* import \n",
        "  1. Sequential => linear stack of NN layers -> feed forward cnn\n",
        "  2. layers -> for almost any nn\n",
        "  3. CNN layers -> convolution2D , maxpooling2D\n"
      ]
    },
    {
      "cell_type": "code",
      "metadata": {
        "id": "Jg7wHibYv2wF",
        "colab": {
          "base_uri": "https://localhost:8080/",
          "height": 35
        },
        "outputId": "36d652cf-a68b-48fc-f886-defb748c94c4"
      },
      "source": [
        "\"\"\"\n",
        "* keras.__version__\n",
        "* pip install --upgrade keras\n",
        "\"\"\""
      ],
      "execution_count": 42,
      "outputs": [
        {
          "output_type": "execute_result",
          "data": {
            "application/vnd.google.colaboratory.intrinsic+json": {
              "type": "string"
            },
            "text/plain": [
              "'\\n* keras.__version__\\n* pip install --upgrade keras\\n'"
            ]
          },
          "metadata": {},
          "execution_count": 42
        }
      ]
    },
    {
      "cell_type": "markdown",
      "metadata": {
        "id": "dyPOvVbXtSUi"
      },
      "source": [
        "* Deep learning led to advances in computer vision\n",
        "* Neural networks learn more complex features from input image.\n",
        "  1. input layer => feeding input\n",
        "  2. first hidden layer =>  only learn local edge patterns\n",
        "  3. each subsequent layer => filters => learns more complex representations\n",
        "  4. classify\n",
        "\n",
        "* CNN => reduce no of parameters that need to be tuned => handle high dimensionality"
      ]
    },
    {
      "cell_type": "markdown",
      "metadata": {
        "id": "lni4RvfCDtgD"
      },
      "source": [
        "# 1) Simpler CNN"
      ]
    },
    {
      "cell_type": "code",
      "metadata": {
        "id": "-h71E2cTFWOi"
      },
      "source": [
        "input_shape=(48, 48, 1)\n",
        "num_classes = 7"
      ],
      "execution_count": 43,
      "outputs": []
    },
    {
      "cell_type": "code",
      "metadata": {
        "id": "IgnHh0urDr7U"
      },
      "source": [
        "\"\"\" Building up Model Architecture \"\"\"\n",
        "\n",
        "model = Sequential()\n",
        "model.add(Convolution2D(filters=16, kernel_size=(7, 7), padding='same',\n",
        "                            name='image_array', input_shape=input_shape))\n",
        "model.add(BatchNormalization())\n",
        "model.add(Convolution2D(filters=16, kernel_size=(7, 7), padding='same'))\n",
        "model.add(BatchNormalization())\n",
        "model.add(Activation('relu'))\n",
        "model.add(AveragePooling2D(pool_size=(2, 2), padding='same'))\n",
        "model.add(Dropout(.5))\n",
        "\n",
        "model.add(Convolution2D(filters=32, kernel_size=(5, 5), padding='same'))\n",
        "model.add(BatchNormalization())\n",
        "model.add(Convolution2D(filters=32, kernel_size=(5, 5), padding='same'))\n",
        "model.add(BatchNormalization())\n",
        "model.add(Activation('relu'))\n",
        "model.add(AveragePooling2D(pool_size=(2, 2), padding='same'))\n",
        "model.add(Dropout(.5))\n",
        "\n",
        "model.add(Convolution2D(filters=64, kernel_size=(3, 3), padding='same'))\n",
        "model.add(BatchNormalization())\n",
        "model.add(Convolution2D(filters=64, kernel_size=(3, 3), padding='same'))\n",
        "model.add(BatchNormalization())\n",
        "model.add(Activation('relu'))\n",
        "model.add(AveragePooling2D(pool_size=(2, 2), padding='same'))\n",
        "model.add(Dropout(.5))\n",
        "\n",
        "model.add(Convolution2D(filters=128, kernel_size=(3, 3), padding='same'))\n",
        "model.add(BatchNormalization())\n",
        "model.add(Convolution2D(filters=128, kernel_size=(3, 3), padding='same'))\n",
        "model.add(BatchNormalization())\n",
        "model.add(Activation('relu'))\n",
        "model.add(AveragePooling2D(pool_size=(2, 2), padding='same'))\n",
        "model.add(Dropout(.5))\n",
        "\n",
        "model.add(Convolution2D(filters=256, kernel_size=(3, 3), padding='same'))\n",
        "\n",
        "\n",
        "\n",
        "model.add(BatchNormalization())\n",
        "model.add(Convolution2D(filters=num_classes, kernel_size=(3, 3), padding='same'))\n",
        "model.add(GlobalAveragePooling2D())\n",
        "model.add(Activation('softmax',name='predictions'))\n",
        "\n"
      ],
      "execution_count": 44,
      "outputs": []
    },
    {
      "cell_type": "markdown",
      "metadata": {
        "id": "mOB8szvd_tfd"
      },
      "source": [
        " # **Intuition**\n",
        "\n",
        "\n",
        "---\n",
        "\n",
        "\n",
        "\n",
        "* **Convolution** => matrix multiplication with filter -> feature detector\n",
        "  * Convolution2d => for filtering windows of 2 dimensional input -> if 1st layer = input_shape\n",
        "* filters = windows ; 2 dim filter => sliding window\n",
        "* sliding window slides over each channel and summarising the features.\n",
        "*  **batch normalisation** => used to stabilise perhaps accelerate learning process => standardise layer inputs => by applying transformation that maintains mean activation close to 0 and activation standard deviation(sq root of variance ---> how far) close to 1.\n",
        "  1. normalisation => process tend to follow bell shape curve known as normal distribution\n",
        "  2. backpropagation => updated layer by layer backward from output to the input using estimate of error that assumes weights in the layer prior to the current layer are fixed.\n",
        "  3. gradient tells how to update each parameter under the assumption that other layers do not change. \n",
        "  4. all layers changes during an update --> this update procedure leads to forever chasing a moving target.\n",
        "  5. batch normalisation => technique to coordinate the update  of multiple layers in the model => reparametrization of network\n",
        "  6. its about standardize the mean and variance of each unit in normal dist\n",
        "  7. its all about standardixeing inputs to layers for each mini batch\n",
        "\n",
        "* **Activation(ReLu)**: activation layer( non linear layer) \n",
        "  1. convention is to apply after conv layer\n",
        "  2. to introduce non linearity to a system that has computed linear operations in conv\n",
        "  3. Rectified linear unit => widely used  than non linear functions(sigmoid, tanh) for its fast training with out accuracy. => max(0,x)\n",
        "  4. Relu also alleviates vanishing gradient (lower layers of network trains very slowly because the gradient decreases slowly throught layers.\n",
        "  5. without these non linear functions(activation functions) , the network would be a large linear classifier that could simplified by multiplying weight matrices(accounting for bais) . It wouldn't do anything interesting such as image classification etc..\n",
        "* **Pooling** => max, avg ,globalmax, globalavg\n",
        "  1. conv > activation > pooling\n",
        "  2.to reduce dimensions of feature map => reduces parameters to learn and amt of computations\n",
        "  3. it further summarizes the feature map  instead of precisely positioned features generated by conv layer. This makes model more robust to variations in the position of features in image\n",
        "  4.when network wants to detect higher level features from low level building blocks (detecting corners from edges) . we dont need a rigid about exact position => we need translational invariance at the feature level . so insert pooling\n",
        "  5. overcomes the problem of sensitive to the location of the features.\n",
        "  6. local translation invariance\n",
        "\n",
        "*  **Dropout** => regularization technique\n",
        "  1.neurons are randomly dropped while training\n",
        "  2. this effect makes network less sensitive to thespecific weights of neurons \n",
        "  3. better generalization - less overfit\n",
        "\n",
        "\n",
        "---\n",
        "**Functions:**\n",
        "* convolution2d => no of filters or kernels , kernal size , padding => same(zero padding) , valid (no padding) for input ; stride = step or movement of kernel. ; if 1st layer -> input_shape\n",
        "* BatchNormalisation => no args \n",
        "* Activation => func name\n",
        "* AveragePooling2D => 2D means 2 dimensional feature map ; kernel size , padding\n",
        "* Dropout => % of drop of neurons \n",
        "* AT output , convolution2d --> filters = no of classes ; activation --> softmax\n",
        "\n"
      ]
    },
    {
      "cell_type": "code",
      "metadata": {
        "id": "l1DSW_zoN1hg",
        "colab": {
          "base_uri": "https://localhost:8080/"
        },
        "outputId": "37fc2453-3041-4a38-841c-037272150cf6"
      },
      "source": [
        "model.summary()"
      ],
      "execution_count": 45,
      "outputs": [
        {
          "output_type": "stream",
          "name": "stdout",
          "text": [
            "Model: \"sequential\"\n",
            "_________________________________________________________________\n",
            "Layer (type)                 Output Shape              Param #   \n",
            "=================================================================\n",
            "image_array (Conv2D)         (None, 48, 48, 16)        800       \n",
            "_________________________________________________________________\n",
            "batch_normalization (BatchNo (None, 48, 48, 16)        64        \n",
            "_________________________________________________________________\n",
            "conv2d (Conv2D)              (None, 48, 48, 16)        12560     \n",
            "_________________________________________________________________\n",
            "batch_normalization_1 (Batch (None, 48, 48, 16)        64        \n",
            "_________________________________________________________________\n",
            "activation (Activation)      (None, 48, 48, 16)        0         \n",
            "_________________________________________________________________\n",
            "average_pooling2d (AveragePo (None, 24, 24, 16)        0         \n",
            "_________________________________________________________________\n",
            "dropout (Dropout)            (None, 24, 24, 16)        0         \n",
            "_________________________________________________________________\n",
            "conv2d_1 (Conv2D)            (None, 24, 24, 32)        12832     \n",
            "_________________________________________________________________\n",
            "batch_normalization_2 (Batch (None, 24, 24, 32)        128       \n",
            "_________________________________________________________________\n",
            "conv2d_2 (Conv2D)            (None, 24, 24, 32)        25632     \n",
            "_________________________________________________________________\n",
            "batch_normalization_3 (Batch (None, 24, 24, 32)        128       \n",
            "_________________________________________________________________\n",
            "activation_1 (Activation)    (None, 24, 24, 32)        0         \n",
            "_________________________________________________________________\n",
            "average_pooling2d_1 (Average (None, 12, 12, 32)        0         \n",
            "_________________________________________________________________\n",
            "dropout_1 (Dropout)          (None, 12, 12, 32)        0         \n",
            "_________________________________________________________________\n",
            "conv2d_3 (Conv2D)            (None, 12, 12, 64)        18496     \n",
            "_________________________________________________________________\n",
            "batch_normalization_4 (Batch (None, 12, 12, 64)        256       \n",
            "_________________________________________________________________\n",
            "conv2d_4 (Conv2D)            (None, 12, 12, 64)        36928     \n",
            "_________________________________________________________________\n",
            "batch_normalization_5 (Batch (None, 12, 12, 64)        256       \n",
            "_________________________________________________________________\n",
            "activation_2 (Activation)    (None, 12, 12, 64)        0         \n",
            "_________________________________________________________________\n",
            "average_pooling2d_2 (Average (None, 6, 6, 64)          0         \n",
            "_________________________________________________________________\n",
            "dropout_2 (Dropout)          (None, 6, 6, 64)          0         \n",
            "_________________________________________________________________\n",
            "conv2d_5 (Conv2D)            (None, 6, 6, 128)         73856     \n",
            "_________________________________________________________________\n",
            "batch_normalization_6 (Batch (None, 6, 6, 128)         512       \n",
            "_________________________________________________________________\n",
            "conv2d_6 (Conv2D)            (None, 6, 6, 128)         147584    \n",
            "_________________________________________________________________\n",
            "batch_normalization_7 (Batch (None, 6, 6, 128)         512       \n",
            "_________________________________________________________________\n",
            "activation_3 (Activation)    (None, 6, 6, 128)         0         \n",
            "_________________________________________________________________\n",
            "average_pooling2d_3 (Average (None, 3, 3, 128)         0         \n",
            "_________________________________________________________________\n",
            "dropout_3 (Dropout)          (None, 3, 3, 128)         0         \n",
            "_________________________________________________________________\n",
            "conv2d_7 (Conv2D)            (None, 3, 3, 256)         295168    \n",
            "_________________________________________________________________\n",
            "batch_normalization_8 (Batch (None, 3, 3, 256)         1024      \n",
            "_________________________________________________________________\n",
            "conv2d_8 (Conv2D)            (None, 3, 3, 7)           16135     \n",
            "_________________________________________________________________\n",
            "global_average_pooling2d (Gl (None, 7)                 0         \n",
            "_________________________________________________________________\n",
            "predictions (Activation)     (None, 7)                 0         \n",
            "=================================================================\n",
            "Total params: 642,935\n",
            "Trainable params: 641,463\n",
            "Non-trainable params: 1,472\n",
            "_________________________________________________________________\n"
          ]
        }
      ]
    },
    {
      "cell_type": "code",
      "metadata": {
        "id": "qS2a73LMMXsF"
      },
      "source": [
        "# parameters\n",
        "batch_size = 32 #Number of samples per gradient update\n",
        "num_epochs = 200 # Number of epochs to train the model.\n",
        "#input_shape = (64, 64, 1)\n",
        "verbose = 1 #per epohs  progress bar\n",
        "num_classes = 7 \n",
        "patience = 50\n",
        "base_path = 'drive/Colab Notebooks/emotion/simplecnn/'"
      ],
      "execution_count": 46,
      "outputs": []
    },
    {
      "cell_type": "code",
      "metadata": {
        "id": "oZGzV6XKVkmr"
      },
      "source": [
        "from keras.callbacks import CSVLogger, ModelCheckpoint, EarlyStopping\n",
        "from keras.callbacks import ReduceLROnPlateau\n",
        "from keras.preprocessing.image import ImageDataGenerator"
      ],
      "execution_count": 47,
      "outputs": []
    },
    {
      "cell_type": "markdown",
      "metadata": {
        "id": "fIB613fzVrlK"
      },
      "source": [
        "## Data Augmenttion"
      ]
    },
    {
      "cell_type": "code",
      "metadata": {
        "id": "G0vSiW0aVWoi"
      },
      "source": [
        "\"\"\" Data Augmentation => taking the batch and apply some series of random transformations (random rotation, resizing, shearing) \n",
        "\n",
        "      ===> to increase generalizability of model  \"\"\"\n",
        "\n",
        "\n",
        "# data generator Generate batches of tensor image data with real-time data augmentation\n",
        "data_generator = ImageDataGenerator(\n",
        "                        featurewise_center=False,\n",
        "                        featurewise_std_normalization=False,\n",
        "                        rotation_range=10,\n",
        "                        width_shift_range=0.1,\n",
        "                        height_shift_range=0.1,\n",
        "                        zoom_range=.1,\n",
        "                        horizontal_flip=True)"
      ],
      "execution_count": 48,
      "outputs": []
    },
    {
      "cell_type": "markdown",
      "metadata": {
        "id": "LIW7y7yWkwJ3"
      },
      "source": [
        "**ImageDataGenerator**\n",
        "* horizontal and vertical shift => moving all pixels of image in one direction \n",
        "  1. width_shift_range ( horizonatal shift)\n",
        "  2. height_shift_range (vertical shift)\n",
        "  3. floating num [0- 1] --> % of shift\n",
        "\n",
        "* horizontal n vertical flips augmentation ==>reversing rows or cols of pixels  --> True or False\n",
        "* Random rotation  --> 0 - 360 degrees --> rotation_range = 90 ==> means random rotation to image blw 0 and 90 degrees\n",
        "* random  brightness --> randomly darkens or brightens images ==> brightness_range =[0.2,1.0] --> means darkens or brightens if pixel is blw 0.2 and 1\n",
        "* random zoom\n",
        "  1. either adds pixel or subtract pixels in image . [1-value, 1+value] \n",
        "  2. for example , zoom_range = .3 --> range [0.7, 1.3] or blw 70%(zoom in) and 130% (zoomout)\n",
        "\n",
        "---\n",
        "when an object is created using following args. an iterator can be created for an image dataset. \n",
        "* it iterates through all images in memory --> obj.flow(X,y)\n",
        "* to iterates images through subdirectories --> obj. flow_from_directory(X,y,..)\n",
        "* to train ==> fit_generator() "
      ]
    },
    {
      "cell_type": "code",
      "metadata": {
        "id": "oeF9vG6oWMB6",
        "colab": {
          "base_uri": "https://localhost:8080/"
        },
        "outputId": "e584c8ea-cb6c-40fc-96ea-08d6d0ebf1d7"
      },
      "source": [
        "# model parameters/compilation\n",
        "\n",
        "\"\"\" CONFIGURATION ==>.compile(optimizer, loss , metrics) \"\"\"\n",
        "\n",
        "\n",
        "\n",
        "model.compile(optimizer='adam', loss='categorical_crossentropy',\n",
        "              metrics=['accuracy'])\n",
        "model.summary()\n"
      ],
      "execution_count": 49,
      "outputs": [
        {
          "output_type": "stream",
          "name": "stdout",
          "text": [
            "Model: \"sequential\"\n",
            "_________________________________________________________________\n",
            "Layer (type)                 Output Shape              Param #   \n",
            "=================================================================\n",
            "image_array (Conv2D)         (None, 48, 48, 16)        800       \n",
            "_________________________________________________________________\n",
            "batch_normalization (BatchNo (None, 48, 48, 16)        64        \n",
            "_________________________________________________________________\n",
            "conv2d (Conv2D)              (None, 48, 48, 16)        12560     \n",
            "_________________________________________________________________\n",
            "batch_normalization_1 (Batch (None, 48, 48, 16)        64        \n",
            "_________________________________________________________________\n",
            "activation (Activation)      (None, 48, 48, 16)        0         \n",
            "_________________________________________________________________\n",
            "average_pooling2d (AveragePo (None, 24, 24, 16)        0         \n",
            "_________________________________________________________________\n",
            "dropout (Dropout)            (None, 24, 24, 16)        0         \n",
            "_________________________________________________________________\n",
            "conv2d_1 (Conv2D)            (None, 24, 24, 32)        12832     \n",
            "_________________________________________________________________\n",
            "batch_normalization_2 (Batch (None, 24, 24, 32)        128       \n",
            "_________________________________________________________________\n",
            "conv2d_2 (Conv2D)            (None, 24, 24, 32)        25632     \n",
            "_________________________________________________________________\n",
            "batch_normalization_3 (Batch (None, 24, 24, 32)        128       \n",
            "_________________________________________________________________\n",
            "activation_1 (Activation)    (None, 24, 24, 32)        0         \n",
            "_________________________________________________________________\n",
            "average_pooling2d_1 (Average (None, 12, 12, 32)        0         \n",
            "_________________________________________________________________\n",
            "dropout_1 (Dropout)          (None, 12, 12, 32)        0         \n",
            "_________________________________________________________________\n",
            "conv2d_3 (Conv2D)            (None, 12, 12, 64)        18496     \n",
            "_________________________________________________________________\n",
            "batch_normalization_4 (Batch (None, 12, 12, 64)        256       \n",
            "_________________________________________________________________\n",
            "conv2d_4 (Conv2D)            (None, 12, 12, 64)        36928     \n",
            "_________________________________________________________________\n",
            "batch_normalization_5 (Batch (None, 12, 12, 64)        256       \n",
            "_________________________________________________________________\n",
            "activation_2 (Activation)    (None, 12, 12, 64)        0         \n",
            "_________________________________________________________________\n",
            "average_pooling2d_2 (Average (None, 6, 6, 64)          0         \n",
            "_________________________________________________________________\n",
            "dropout_2 (Dropout)          (None, 6, 6, 64)          0         \n",
            "_________________________________________________________________\n",
            "conv2d_5 (Conv2D)            (None, 6, 6, 128)         73856     \n",
            "_________________________________________________________________\n",
            "batch_normalization_6 (Batch (None, 6, 6, 128)         512       \n",
            "_________________________________________________________________\n",
            "conv2d_6 (Conv2D)            (None, 6, 6, 128)         147584    \n",
            "_________________________________________________________________\n",
            "batch_normalization_7 (Batch (None, 6, 6, 128)         512       \n",
            "_________________________________________________________________\n",
            "activation_3 (Activation)    (None, 6, 6, 128)         0         \n",
            "_________________________________________________________________\n",
            "average_pooling2d_3 (Average (None, 3, 3, 128)         0         \n",
            "_________________________________________________________________\n",
            "dropout_3 (Dropout)          (None, 3, 3, 128)         0         \n",
            "_________________________________________________________________\n",
            "conv2d_7 (Conv2D)            (None, 3, 3, 256)         295168    \n",
            "_________________________________________________________________\n",
            "batch_normalization_8 (Batch (None, 3, 3, 256)         1024      \n",
            "_________________________________________________________________\n",
            "conv2d_8 (Conv2D)            (None, 3, 3, 7)           16135     \n",
            "_________________________________________________________________\n",
            "global_average_pooling2d (Gl (None, 7)                 0         \n",
            "_________________________________________________________________\n",
            "predictions (Activation)     (None, 7)                 0         \n",
            "=================================================================\n",
            "Total params: 642,935\n",
            "Trainable params: 641,463\n",
            "Non-trainable params: 1,472\n",
            "_________________________________________________________________\n"
          ]
        }
      ]
    },
    {
      "cell_type": "code",
      "metadata": {
        "id": "EZP8riBlO4mS",
        "colab": {
          "base_uri": "https://localhost:8080/"
        },
        "outputId": "79085fe6-ac7e-403d-8c62-2b1e3b3c3eb3"
      },
      "source": [
        "datasets = ['fer2013']\n",
        "num_epochs = 30\n",
        "base_path=\"/content\"\n",
        "for dataset_name in datasets:\n",
        "    print('Training dataset:', dataset_name)\n",
        "\n",
        "    #callbacks\n",
        "    log_file_path = dataset_name + '_emotion_training.log'\n",
        "\n",
        "    csv_logger = CSVLogger(log_file_path, append=False)\n",
        "    early_stop = EarlyStopping('val_loss', patience=patience)\n",
        "    reduce_lr = ReduceLROnPlateau('val_loss', factor=0.1,patience=int(patience/4), verbose=1)\n",
        "    \n",
        "    trained_models_path = base_path + dataset_name + 'simple_cnn'\n",
        "    model_names = trained_models_path + '.{epoch:02d}-{val_loss:.2f}.hdf5'      # if error \"acc\" in 1 line ... don't confuse check entire block since fit() generates a inner loop\n",
        "    model_checkpoint = ModelCheckpoint(model_names, 'val_loss', verbose=1,save_best_only=True)\n",
        "    my_callbacks = [model_checkpoint, csv_logger, early_stop, reduce_lr]\n",
        "\n",
        "    # loading dataset\n",
        "    train_faces, train_emotions = train_data\n",
        "    history=model.fit_generator(data_generator.flow(train_faces, train_emotions,\n",
        "                                            batch_size),\n",
        "                        epochs=num_epochs, verbose=1\n",
        "                        ,callbacks=my_callbacks,validation_data =val_data)   #not callbacks = [my_callbacks] since we my_callbacks is already a list "
      ],
      "execution_count": 50,
      "outputs": [
        {
          "output_type": "stream",
          "name": "stdout",
          "text": [
            "Training dataset: fer2013\n"
          ]
        },
        {
          "output_type": "stream",
          "name": "stderr",
          "text": [
            "/usr/local/lib/python3.7/dist-packages/keras/engine/training.py:1972: UserWarning: `Model.fit_generator` is deprecated and will be removed in a future version. Please use `Model.fit`, which supports generators.\n",
            "  warnings.warn('`Model.fit_generator` is deprecated and '\n"
          ]
        },
        {
          "output_type": "stream",
          "name": "stdout",
          "text": [
            "Epoch 1/30\n",
            "898/898 [==============================] - 61s 33ms/step - loss: 1.7759 - accuracy: 0.2856 - val_loss: 1.6391 - val_accuracy: 0.3455\n",
            "\n",
            "Epoch 00001: val_loss improved from inf to 1.63911, saving model to /contentfer2013simple_cnn.01-1.64.hdf5\n",
            "Epoch 2/30\n",
            "898/898 [==============================] - 29s 33ms/step - loss: 1.6489 - accuracy: 0.3508 - val_loss: 1.5666 - val_accuracy: 0.3961\n",
            "\n",
            "Epoch 00002: val_loss improved from 1.63911 to 1.56655, saving model to /contentfer2013simple_cnn.02-1.57.hdf5\n",
            "Epoch 3/30\n",
            "898/898 [==============================] - 29s 32ms/step - loss: 1.5705 - accuracy: 0.3857 - val_loss: 1.4060 - val_accuracy: 0.4611\n",
            "\n",
            "Epoch 00003: val_loss improved from 1.56655 to 1.40597, saving model to /contentfer2013simple_cnn.03-1.41.hdf5\n",
            "Epoch 4/30\n",
            "898/898 [==============================] - 29s 32ms/step - loss: 1.5205 - accuracy: 0.4084 - val_loss: 1.4021 - val_accuracy: 0.4588\n",
            "\n",
            "Epoch 00004: val_loss improved from 1.40597 to 1.40211, saving model to /contentfer2013simple_cnn.04-1.40.hdf5\n",
            "Epoch 5/30\n",
            "898/898 [==============================] - 29s 32ms/step - loss: 1.4832 - accuracy: 0.4253 - val_loss: 1.3599 - val_accuracy: 0.4720\n",
            "\n",
            "Epoch 00005: val_loss improved from 1.40211 to 1.35986, saving model to /contentfer2013simple_cnn.05-1.36.hdf5\n",
            "Epoch 6/30\n",
            "898/898 [==============================] - 29s 32ms/step - loss: 1.4475 - accuracy: 0.4429 - val_loss: 1.3667 - val_accuracy: 0.4950\n",
            "\n",
            "Epoch 00006: val_loss did not improve from 1.35986\n",
            "Epoch 7/30\n",
            "898/898 [==============================] - 29s 32ms/step - loss: 1.4228 - accuracy: 0.4514 - val_loss: 1.3296 - val_accuracy: 0.4918\n",
            "\n",
            "Epoch 00007: val_loss improved from 1.35986 to 1.32961, saving model to /contentfer2013simple_cnn.07-1.33.hdf5\n",
            "Epoch 8/30\n",
            "898/898 [==============================] - 30s 33ms/step - loss: 1.4177 - accuracy: 0.4579 - val_loss: 1.2502 - val_accuracy: 0.5202\n",
            "\n",
            "Epoch 00008: val_loss improved from 1.32961 to 1.25021, saving model to /contentfer2013simple_cnn.08-1.25.hdf5\n",
            "Epoch 9/30\n",
            "898/898 [==============================] - 30s 33ms/step - loss: 1.3905 - accuracy: 0.4647 - val_loss: 1.2466 - val_accuracy: 0.5242\n",
            "\n",
            "Epoch 00009: val_loss improved from 1.25021 to 1.24658, saving model to /contentfer2013simple_cnn.09-1.25.hdf5\n",
            "Epoch 10/30\n",
            "898/898 [==============================] - 29s 32ms/step - loss: 1.3877 - accuracy: 0.4687 - val_loss: 1.2908 - val_accuracy: 0.5008\n",
            "\n",
            "Epoch 00010: val_loss did not improve from 1.24658\n",
            "Epoch 11/30\n",
            "898/898 [==============================] - 28s 32ms/step - loss: 1.3676 - accuracy: 0.4762 - val_loss: 1.2351 - val_accuracy: 0.5305\n",
            "\n",
            "Epoch 00011: val_loss improved from 1.24658 to 1.23513, saving model to /contentfer2013simple_cnn.11-1.24.hdf5\n",
            "Epoch 12/30\n",
            "898/898 [==============================] - 29s 32ms/step - loss: 1.3545 - accuracy: 0.4805 - val_loss: 1.2213 - val_accuracy: 0.5306\n",
            "\n",
            "Epoch 00012: val_loss improved from 1.23513 to 1.22126, saving model to /contentfer2013simple_cnn.12-1.22.hdf5\n",
            "Epoch 13/30\n",
            "898/898 [==============================] - 28s 32ms/step - loss: 1.3412 - accuracy: 0.4896 - val_loss: 1.2282 - val_accuracy: 0.5277\n",
            "\n",
            "Epoch 00013: val_loss did not improve from 1.22126\n",
            "Epoch 14/30\n",
            "898/898 [==============================] - 29s 32ms/step - loss: 1.3357 - accuracy: 0.4907 - val_loss: 1.2235 - val_accuracy: 0.5347\n",
            "\n",
            "Epoch 00014: val_loss did not improve from 1.22126\n",
            "Epoch 15/30\n",
            "898/898 [==============================] - 28s 32ms/step - loss: 1.3277 - accuracy: 0.4918 - val_loss: 1.2034 - val_accuracy: 0.5458\n",
            "\n",
            "Epoch 00015: val_loss improved from 1.22126 to 1.20343, saving model to /contentfer2013simple_cnn.15-1.20.hdf5\n",
            "Epoch 16/30\n",
            "898/898 [==============================] - 30s 33ms/step - loss: 1.3225 - accuracy: 0.4959 - val_loss: 1.1808 - val_accuracy: 0.5496\n",
            "\n",
            "Epoch 00016: val_loss improved from 1.20343 to 1.18083, saving model to /contentfer2013simple_cnn.16-1.18.hdf5\n",
            "Epoch 17/30\n",
            "898/898 [==============================] - 29s 33ms/step - loss: 1.3154 - accuracy: 0.4957 - val_loss: 1.2100 - val_accuracy: 0.5351\n",
            "\n",
            "Epoch 00017: val_loss did not improve from 1.18083\n",
            "Epoch 18/30\n",
            "898/898 [==============================] - 29s 33ms/step - loss: 1.3085 - accuracy: 0.4991 - val_loss: 1.1677 - val_accuracy: 0.5510\n",
            "\n",
            "Epoch 00018: val_loss improved from 1.18083 to 1.16769, saving model to /contentfer2013simple_cnn.18-1.17.hdf5\n",
            "Epoch 19/30\n",
            "898/898 [==============================] - 29s 32ms/step - loss: 1.3082 - accuracy: 0.5002 - val_loss: 1.1768 - val_accuracy: 0.5429\n",
            "\n",
            "Epoch 00019: val_loss did not improve from 1.16769\n",
            "Epoch 20/30\n",
            "898/898 [==============================] - 29s 33ms/step - loss: 1.2996 - accuracy: 0.5043 - val_loss: 1.1797 - val_accuracy: 0.5461\n",
            "\n",
            "Epoch 00020: val_loss did not improve from 1.16769\n",
            "Epoch 21/30\n",
            "898/898 [==============================] - 29s 32ms/step - loss: 1.3008 - accuracy: 0.5034 - val_loss: 1.1592 - val_accuracy: 0.5600\n",
            "\n",
            "Epoch 00021: val_loss improved from 1.16769 to 1.15920, saving model to /contentfer2013simple_cnn.21-1.16.hdf5\n",
            "Epoch 22/30\n",
            "898/898 [==============================] - 29s 32ms/step - loss: 1.2947 - accuracy: 0.5085 - val_loss: 1.1713 - val_accuracy: 0.5510\n",
            "\n",
            "Epoch 00022: val_loss did not improve from 1.15920\n",
            "Epoch 23/30\n",
            "898/898 [==============================] - 29s 33ms/step - loss: 1.2906 - accuracy: 0.5074 - val_loss: 1.2069 - val_accuracy: 0.5476\n",
            "\n",
            "Epoch 00023: val_loss did not improve from 1.15920\n",
            "Epoch 24/30\n",
            "898/898 [==============================] - 29s 32ms/step - loss: 1.2856 - accuracy: 0.5110 - val_loss: 1.1467 - val_accuracy: 0.5591\n",
            "\n",
            "Epoch 00024: val_loss improved from 1.15920 to 1.14673, saving model to /contentfer2013simple_cnn.24-1.15.hdf5\n",
            "Epoch 25/30\n",
            "898/898 [==============================] - 30s 33ms/step - loss: 1.2786 - accuracy: 0.5136 - val_loss: 1.1454 - val_accuracy: 0.5627\n",
            "\n",
            "Epoch 00025: val_loss improved from 1.14673 to 1.14538, saving model to /contentfer2013simple_cnn.25-1.15.hdf5\n",
            "Epoch 26/30\n",
            "898/898 [==============================] - 29s 32ms/step - loss: 1.2830 - accuracy: 0.5130 - val_loss: 1.1413 - val_accuracy: 0.5621\n",
            "\n",
            "Epoch 00026: val_loss improved from 1.14538 to 1.14131, saving model to /contentfer2013simple_cnn.26-1.14.hdf5\n",
            "Epoch 27/30\n",
            "898/898 [==============================] - 29s 32ms/step - loss: 1.2758 - accuracy: 0.5138 - val_loss: 1.1353 - val_accuracy: 0.5639\n",
            "\n",
            "Epoch 00027: val_loss improved from 1.14131 to 1.13529, saving model to /contentfer2013simple_cnn.27-1.14.hdf5\n",
            "Epoch 28/30\n",
            "898/898 [==============================] - 30s 33ms/step - loss: 1.2749 - accuracy: 0.5168 - val_loss: 1.1552 - val_accuracy: 0.5578\n",
            "\n",
            "Epoch 00028: val_loss did not improve from 1.13529\n",
            "Epoch 29/30\n",
            "898/898 [==============================] - 29s 32ms/step - loss: 1.2683 - accuracy: 0.5179 - val_loss: 1.1718 - val_accuracy: 0.5489\n",
            "\n",
            "Epoch 00029: val_loss did not improve from 1.13529\n",
            "Epoch 30/30\n",
            "898/898 [==============================] - 29s 33ms/step - loss: 1.2656 - accuracy: 0.5202 - val_loss: 1.1311 - val_accuracy: 0.5680\n",
            "\n",
            "Epoch 00030: val_loss improved from 1.13529 to 1.13109, saving model to /contentfer2013simple_cnn.30-1.13.hdf5\n"
          ]
        }
      ]
    },
    {
      "cell_type": "markdown",
      "metadata": {
        "id": "py6W0E8z6SId"
      },
      "source": [
        "**keras**\n",
        "* **callbacks** => an object that can perform actions at various stages of training\n",
        "      1. write tensorflowboard logs after every batch\n",
        "      2. periodically save model to disk\n",
        "      3. do early stopping \n",
        "      4. view on internal states and statistics during training\n",
        "      * used in fit() loop\n",
        "  * **CSVLogger(filename, separator=\",')**  --> to save epoch results to a csv file\n",
        "      * create obj and use that obj in fit(callbacks=[csv_logger_obj])\n",
        "  * **EarlyStopping()** --> stop training when a monitored metric \n",
        "  has stopped improving\n",
        "      1. monitor = \"val_loss\" --> loss function to be monitored\n",
        "      2. min_delta --> minimum change to count(threshold)\n",
        "      3. patience --> no of epochs with no improvement to stop training\n",
        "  * **ReduceLROnPlateau()**--> reduce learning rate when metric has stopped improving\n",
        "      1. monitor, patience, min_delta\n",
        "      2. factor = 0.1 ==> learning rate reduced to 10% (lr*0.1)\n",
        "      3. verbose ==> 0: quiet , 1: update msgs\n",
        "  * **ModelCheckpoint()** -->to save  keras model or model weights at some frequency\n",
        "      1. filepath\n",
        "      2. monitor --> val_acc or val_loss\n",
        "      3. save_best_only = True \n",
        "\n",
        "---\n",
        "fit_generator(.flow(X,y, batchsize), verbose,epochs,validation_data)"
      ]
    },
    {
      "cell_type": "markdown",
      "metadata": {
        "id": "8aTQpoDjDdsU"
      },
      "source": [
        "* fit() ==> training loop\n",
        "* logs ==> dict"
      ]
    },
    {
      "cell_type": "code",
      "metadata": {
        "id": "vI4nPHW1WZ4r",
        "colab": {
          "base_uri": "https://localhost:8080/"
        },
        "outputId": "19a6dad0-7cd8-4432-db77-1a05d295d4bd"
      },
      "source": [
        "#evaluate() returns [loss,acc]\n",
        "score = model.evaluate(val_x, val_y, verbose=1) \n",
        "print('Test loss:', score[0])\n",
        "print('Test accuracy:', score[1]*100)\n"
      ],
      "execution_count": 51,
      "outputs": [
        {
          "output_type": "stream",
          "name": "stdout",
          "text": [
            "225/225 [==============================] - 2s 9ms/step - loss: 1.1311 - accuracy: 0.5680\n",
            "Test loss: 1.1310887336730957\n",
            "Test accuracy: 56.798553466796875\n"
          ]
        }
      ]
    },
    {
      "cell_type": "markdown",
      "metadata": {
        "id": "IXedkSpQncmu"
      },
      "source": [
        "**history** ====> default callbacks that is registered when training \n",
        "\n",
        "        1.  records training metrics for each epoch\n",
        "        2. these metrics stored in dictionary in history member of object returned\n",
        "        3. obj returns from calls to fit() used to train model \n",
        "        4. data collected in history obj  used to create plots"
      ]
    },
    {
      "cell_type": "code",
      "metadata": {
        "id": "MzP_WR5DqZJE",
        "colab": {
          "base_uri": "https://localhost:8080/"
        },
        "outputId": "8dea8c95-4634-4017-97c1-dfd82afbfb5c"
      },
      "source": [
        "\"\"\" metrics collected by history object \"\"\"\n",
        "history_dict=history.history\n",
        "history_dict.keys()"
      ],
      "execution_count": 52,
      "outputs": [
        {
          "output_type": "execute_result",
          "data": {
            "text/plain": [
              "dict_keys(['loss', 'accuracy', 'val_loss', 'val_accuracy', 'lr'])"
            ]
          },
          "metadata": {},
          "execution_count": 52
        }
      ]
    },
    {
      "cell_type": "code",
      "metadata": {
        "id": "rxGe4TkroeLK",
        "colab": {
          "base_uri": "https://localhost:8080/"
        },
        "outputId": "4a580c81-87b1-49d3-947c-b1bb8096bbfc"
      },
      "source": [
        "print(history_dict[\"accuracy\"])"
      ],
      "execution_count": 53,
      "outputs": [
        {
          "output_type": "stream",
          "name": "stdout",
          "text": [
            "[0.2856247127056122, 0.3507610857486725, 0.3856978714466095, 0.4083736836910248, 0.4253021776676178, 0.4429273009300232, 0.4513567090034485, 0.457940012216568, 0.4647323191165924, 0.46873801946640015, 0.4761573076248169, 0.480511337518692, 0.48956772685050964, 0.49068236351013184, 0.4917621612548828, 0.49594202637672424, 0.4956633746623993, 0.49911177158355713, 0.5001915693283081, 0.5043017864227295, 0.503430962562561, 0.5085164904594421, 0.5074018836021423, 0.5110244154930115, 0.5135671496391296, 0.5130098462104797, 0.5138109922409058, 0.5168066024780273, 0.5179212093353271, 0.520220160484314]\n"
          ]
        }
      ]
    },
    {
      "cell_type": "code",
      "metadata": {
        "id": "gzqA8Zq-UyqL",
        "colab": {
          "base_uri": "https://localhost:8080/",
          "height": 295
        },
        "outputId": "ce0ea8b5-268b-4615-a3d4-7f5c187357ec"
      },
      "source": [
        "\"\"\" Visualising model training history \"\"\"\n",
        "\n",
        "import matplotlib.pyplot as plt\n",
        "\n",
        "train_loss_values = history_dict['loss']\n",
        "val_loss_values = history_dict['val_loss']\n",
        "\n",
        "epochs = range(1, len(history_dict['accuracy']) + 1)\n",
        "\n",
        "plt.plot(epochs, train_loss_values, 'bo', label='Training loss')\n",
        "plt.plot(epochs, val_loss_values, 'b', label='Validation loss')\n",
        "plt.title('Training and validation loss')\n",
        "plt.xlabel('Epochs')\n",
        "plt.ylabel('Loss')\n",
        "plt.legend()\n",
        "plt.show()"
      ],
      "execution_count": 54,
      "outputs": [
        {
          "output_type": "display_data",
          "data": {
            "image/png": "[encoded data removed]",
            "text/plain": [
              "<Figure size 432x288 with 1 Axes>"
            ]
          },
          "metadata": {
            "needs_background": "light"
          }
        }
      ]
    },
    {
      "cell_type": "code",
      "metadata": {
        "id": "tEe3qvhv5ZA9",
        "colab": {
          "base_uri": "https://localhost:8080/",
          "height": 295
        },
        "outputId": "ec21faae-f495-48f9-9f43-00c51a0de383"
      },
      "source": [
        "train_acc = history_dict['accuracy']\n",
        "val_acc = history_dict['val_accuracy']\n",
        "plt.plot(epochs, train_acc, 'bo', label='Training acc')\n",
        "plt.plot(epochs, val_acc, 'b', label='Validation acc')\n",
        "plt.title('Training and validation accuracy')\n",
        "plt.xlabel('Epochs')\n",
        "plt.ylabel('Loss')\n",
        "plt.legend()\n",
        "plt.show()"
      ],
      "execution_count": 55,
      "outputs": [
        {
          "output_type": "display_data",
          "data": {
            "image/png": "[encoded data removed]",
            "text/plain": [
              "<Figure size 432x288 with 1 Axes>"
            ]
          },
          "metadata": {
            "needs_background": "light"
          }
        }
      ]
    },
    {
      "cell_type": "markdown",
      "metadata": {
        "id": "_qN9xk7ThKwQ"
      },
      "source": [
        "## Testing the model on  some images"
      ]
    },
    {
      "cell_type": "code",
      "metadata": {
        "id": "2k1XVnmqbCNu"
      },
      "source": [
        " emotion_dict = {0: \"Neutral\", 1: \"Disgusted\", 2: \"Fearful\", 3: \"Happy\", 4: \"Sad\", 5: \"Surprised\", 6: \"Neutral\"}\n",
        "\n",
        "  #emojis unicodes #\n",
        " emojis = { 0:\"\\U0001f620\",1:\"\\U0001f922\" ,2:\"\\U0001f628\" ,3:\"\\U0001f60A\" , 4:\"\\U0001f625\" ,5:\"\\U0001f632\",6:\"\\U0001f610\" }"
      ],
      "execution_count": 56,
      "outputs": []
    },
    {
      "cell_type": "code",
      "metadata": {
        "id": "q9Tm7hlE7953",
        "colab": {
          "base_uri": "https://localhost:8080/"
        },
        "outputId": "47e7d632-910a-4cee-8e2a-1126804f6d19"
      },
      "source": [
        "print(emojis.values(),sep=\" \")"
      ],
      "execution_count": 57,
      "outputs": [
        {
          "output_type": "stream",
          "name": "stdout",
          "text": [
            "dict_values(['😠', '🤢', '😨', '😊', '😥', '😲', '😐'])\n"
          ]
        }
      ]
    },
    {
      "cell_type": "code",
      "metadata": {
        "id": "WC8haBpdsQnR",
        "colab": {
          "base_uri": "https://localhost:8080/"
        },
        "outputId": "87db5cb2-96bf-41b0-bafb-f1dd4c45671c"
      },
      "source": [
        "!cd content\n",
        "!pwd\n",
        "!ls"
      ],
      "execution_count": 58,
      "outputs": [
        {
          "output_type": "stream",
          "name": "stdout",
          "text": [
            "/bin/bash: line 0: cd: content: No such file or directory\n",
            "/root/.kaggle/fer2013\n",
            "fer2013.bib  fer2013.csv  fer2013_emotion_training.log\tREADME\n"
          ]
        }
      ]
    }
  ]
}